{
 "cells": [
  {
   "cell_type": "code",
   "execution_count": 97,
   "metadata": {},
   "outputs": [],
   "source": [
    "import pandas as pd\n",
    "import numpy as np\n",
    "import seaborn as sns\n",
    "import matplotlib.pyplot as plt"
   ]
  },
  {
   "cell_type": "code",
   "execution_count": 2,
   "metadata": {},
   "outputs": [],
   "source": [
    "df= pd.read_csv(\"Quarterly.csv\")"
   ]
  },
  {
   "cell_type": "code",
   "execution_count": 35,
   "metadata": {},
   "outputs": [],
   "source": [
    "df.columns=['year', 'Pre_completion', 'Post_completion', 'STEM_extension', 'Undifferentiated']"
   ]
  },
  {
   "cell_type": "code",
   "execution_count": 80,
   "metadata": {},
   "outputs": [],
   "source": [
    "df.Undifferentiated = df.Undifferentiated.str.replace(',', '').astype(float);"
   ]
  },
  {
   "cell_type": "code",
   "execution_count": 73,
   "metadata": {},
   "outputs": [],
   "source": [
    "df.Pre_completion = df.Pre_completion.str.replace(',', '').astype(float);\n",
    "df.Post_completion = df.Post_completion.str.replace(',', '').astype(float);\n",
    "df.STEM_extension = df.STEM_extension.str.replace(',', '').astype(float);"
   ]
  },
  {
   "cell_type": "code",
   "execution_count": 81,
   "metadata": {},
   "outputs": [],
   "source": [
    "df1 = df.loc[(df.year>=2005) & (df.year<=2013)]"
   ]
  },
  {
   "cell_type": "code",
   "execution_count": 82,
   "metadata": {},
   "outputs": [],
   "source": [
    "df1 = df1.set_index('year')"
   ]
  },
  {
   "cell_type": "code",
   "execution_count": 83,
   "metadata": {},
   "outputs": [],
   "source": [
    "df1 = df1.fillna(0)"
   ]
  },
  {
   "cell_type": "code",
   "execution_count": 84,
   "metadata": {},
   "outputs": [
    {
     "data": {
      "text/html": [
       "<div>\n",
       "<style scoped>\n",
       "    .dataframe tbody tr th:only-of-type {\n",
       "        vertical-align: middle;\n",
       "    }\n",
       "\n",
       "    .dataframe tbody tr th {\n",
       "        vertical-align: top;\n",
       "    }\n",
       "\n",
       "    .dataframe thead th {\n",
       "        text-align: right;\n",
       "    }\n",
       "</style>\n",
       "<table border=\"1\" class=\"dataframe\">\n",
       "  <thead>\n",
       "    <tr style=\"text-align: right;\">\n",
       "      <th></th>\n",
       "      <th>Pre_completion</th>\n",
       "      <th>Post_completion</th>\n",
       "      <th>STEM_extension</th>\n",
       "      <th>Undifferentiated</th>\n",
       "    </tr>\n",
       "    <tr>\n",
       "      <th>year</th>\n",
       "      <th></th>\n",
       "      <th></th>\n",
       "      <th></th>\n",
       "      <th></th>\n",
       "    </tr>\n",
       "  </thead>\n",
       "  <tbody>\n",
       "    <tr>\n",
       "      <th>2005</th>\n",
       "      <td>0.0</td>\n",
       "      <td>0.0</td>\n",
       "      <td>0.0</td>\n",
       "      <td>84961.0</td>\n",
       "    </tr>\n",
       "    <tr>\n",
       "      <th>2006</th>\n",
       "      <td>0.0</td>\n",
       "      <td>0.0</td>\n",
       "      <td>0.0</td>\n",
       "      <td>82686.0</td>\n",
       "    </tr>\n",
       "    <tr>\n",
       "      <th>2007</th>\n",
       "      <td>0.0</td>\n",
       "      <td>1.0</td>\n",
       "      <td>0.0</td>\n",
       "      <td>79717.0</td>\n",
       "    </tr>\n",
       "    <tr>\n",
       "      <th>2008</th>\n",
       "      <td>1318.0</td>\n",
       "      <td>26118.0</td>\n",
       "      <td>926.0</td>\n",
       "      <td>53287.0</td>\n",
       "    </tr>\n",
       "    <tr>\n",
       "      <th>2009</th>\n",
       "      <td>3318.0</td>\n",
       "      <td>81014.0</td>\n",
       "      <td>5864.0</td>\n",
       "      <td>0.0</td>\n",
       "    </tr>\n",
       "    <tr>\n",
       "      <th>2010</th>\n",
       "      <td>3024.0</td>\n",
       "      <td>82863.0</td>\n",
       "      <td>10326.0</td>\n",
       "      <td>0.0</td>\n",
       "    </tr>\n",
       "    <tr>\n",
       "      <th>2011</th>\n",
       "      <td>3097.0</td>\n",
       "      <td>88266.0</td>\n",
       "      <td>13041.0</td>\n",
       "      <td>0.0</td>\n",
       "    </tr>\n",
       "    <tr>\n",
       "      <th>2012</th>\n",
       "      <td>3205.0</td>\n",
       "      <td>94676.0</td>\n",
       "      <td>16446.0</td>\n",
       "      <td>0.0</td>\n",
       "    </tr>\n",
       "    <tr>\n",
       "      <th>2013</th>\n",
       "      <td>3500.0</td>\n",
       "      <td>99872.0</td>\n",
       "      <td>18955.0</td>\n",
       "      <td>0.0</td>\n",
       "    </tr>\n",
       "  </tbody>\n",
       "</table>\n",
       "</div>"
      ],
      "text/plain": [
       "      Pre_completion  Post_completion  STEM_extension  Undifferentiated\n",
       "year                                                                   \n",
       "2005             0.0              0.0             0.0           84961.0\n",
       "2006             0.0              0.0             0.0           82686.0\n",
       "2007             0.0              1.0             0.0           79717.0\n",
       "2008          1318.0          26118.0           926.0           53287.0\n",
       "2009          3318.0          81014.0          5864.0               0.0\n",
       "2010          3024.0          82863.0         10326.0               0.0\n",
       "2011          3097.0          88266.0         13041.0               0.0\n",
       "2012          3205.0          94676.0         16446.0               0.0\n",
       "2013          3500.0          99872.0         18955.0               0.0"
      ]
     },
     "execution_count": 84,
     "metadata": {},
     "output_type": "execute_result"
    }
   ],
   "source": [
    "df1"
   ]
  },
  {
   "cell_type": "code",
   "execution_count": 87,
   "metadata": {},
   "outputs": [],
   "source": [
    "df1 =df1.assign(total_opt = df1.Pre_completion+df1.Post_completion+df1.STEM_extension+df1.Undifferentiated)"
   ]
  },
  {
   "cell_type": "code",
   "execution_count": 91,
   "metadata": {},
   "outputs": [],
   "source": [
    "df1.loc[df1.STEM_extension==0, \"STEM_extension\"] =np.nan"
   ]
  },
  {
   "cell_type": "code",
   "execution_count": 94,
   "metadata": {},
   "outputs": [],
   "source": [
    "df1 = df1.assign(Non_stem = df1.total_opt-df1.STEM_extension)"
   ]
  },
  {
   "cell_type": "code",
   "execution_count": 100,
   "metadata": {},
   "outputs": [],
   "source": [
    "df1=df1.reset_index()"
   ]
  },
  {
   "cell_type": "code",
   "execution_count": 101,
   "metadata": {},
   "outputs": [
    {
     "data": {
      "text/html": [
       "<div>\n",
       "<style scoped>\n",
       "    .dataframe tbody tr th:only-of-type {\n",
       "        vertical-align: middle;\n",
       "    }\n",
       "\n",
       "    .dataframe tbody tr th {\n",
       "        vertical-align: top;\n",
       "    }\n",
       "\n",
       "    .dataframe thead th {\n",
       "        text-align: right;\n",
       "    }\n",
       "</style>\n",
       "<table border=\"1\" class=\"dataframe\">\n",
       "  <thead>\n",
       "    <tr style=\"text-align: right;\">\n",
       "      <th></th>\n",
       "      <th>year</th>\n",
       "      <th>Pre_completion</th>\n",
       "      <th>Post_completion</th>\n",
       "      <th>STEM_extension</th>\n",
       "      <th>Undifferentiated</th>\n",
       "      <th>total_opt</th>\n",
       "      <th>Non_stem</th>\n",
       "    </tr>\n",
       "  </thead>\n",
       "  <tbody>\n",
       "    <tr>\n",
       "      <th>0</th>\n",
       "      <td>2005</td>\n",
       "      <td>0.0</td>\n",
       "      <td>0.0</td>\n",
       "      <td>NaN</td>\n",
       "      <td>84961.0</td>\n",
       "      <td>84961.0</td>\n",
       "      <td>NaN</td>\n",
       "    </tr>\n",
       "    <tr>\n",
       "      <th>1</th>\n",
       "      <td>2006</td>\n",
       "      <td>0.0</td>\n",
       "      <td>0.0</td>\n",
       "      <td>NaN</td>\n",
       "      <td>82686.0</td>\n",
       "      <td>82686.0</td>\n",
       "      <td>NaN</td>\n",
       "    </tr>\n",
       "    <tr>\n",
       "      <th>2</th>\n",
       "      <td>2007</td>\n",
       "      <td>0.0</td>\n",
       "      <td>1.0</td>\n",
       "      <td>NaN</td>\n",
       "      <td>79717.0</td>\n",
       "      <td>79718.0</td>\n",
       "      <td>NaN</td>\n",
       "    </tr>\n",
       "    <tr>\n",
       "      <th>3</th>\n",
       "      <td>2008</td>\n",
       "      <td>1318.0</td>\n",
       "      <td>26118.0</td>\n",
       "      <td>926.0</td>\n",
       "      <td>53287.0</td>\n",
       "      <td>81649.0</td>\n",
       "      <td>80723.0</td>\n",
       "    </tr>\n",
       "    <tr>\n",
       "      <th>4</th>\n",
       "      <td>2009</td>\n",
       "      <td>3318.0</td>\n",
       "      <td>81014.0</td>\n",
       "      <td>5864.0</td>\n",
       "      <td>0.0</td>\n",
       "      <td>90196.0</td>\n",
       "      <td>84332.0</td>\n",
       "    </tr>\n",
       "    <tr>\n",
       "      <th>5</th>\n",
       "      <td>2010</td>\n",
       "      <td>3024.0</td>\n",
       "      <td>82863.0</td>\n",
       "      <td>10326.0</td>\n",
       "      <td>0.0</td>\n",
       "      <td>96213.0</td>\n",
       "      <td>85887.0</td>\n",
       "    </tr>\n",
       "    <tr>\n",
       "      <th>6</th>\n",
       "      <td>2011</td>\n",
       "      <td>3097.0</td>\n",
       "      <td>88266.0</td>\n",
       "      <td>13041.0</td>\n",
       "      <td>0.0</td>\n",
       "      <td>104404.0</td>\n",
       "      <td>91363.0</td>\n",
       "    </tr>\n",
       "    <tr>\n",
       "      <th>7</th>\n",
       "      <td>2012</td>\n",
       "      <td>3205.0</td>\n",
       "      <td>94676.0</td>\n",
       "      <td>16446.0</td>\n",
       "      <td>0.0</td>\n",
       "      <td>114327.0</td>\n",
       "      <td>97881.0</td>\n",
       "    </tr>\n",
       "    <tr>\n",
       "      <th>8</th>\n",
       "      <td>2013</td>\n",
       "      <td>3500.0</td>\n",
       "      <td>99872.0</td>\n",
       "      <td>18955.0</td>\n",
       "      <td>0.0</td>\n",
       "      <td>122327.0</td>\n",
       "      <td>103372.0</td>\n",
       "    </tr>\n",
       "  </tbody>\n",
       "</table>\n",
       "</div>"
      ],
      "text/plain": [
       "   year  Pre_completion  Post_completion  STEM_extension  Undifferentiated  \\\n",
       "0  2005             0.0              0.0             NaN           84961.0   \n",
       "1  2006             0.0              0.0             NaN           82686.0   \n",
       "2  2007             0.0              1.0             NaN           79717.0   \n",
       "3  2008          1318.0          26118.0           926.0           53287.0   \n",
       "4  2009          3318.0          81014.0          5864.0               0.0   \n",
       "5  2010          3024.0          82863.0         10326.0               0.0   \n",
       "6  2011          3097.0          88266.0         13041.0               0.0   \n",
       "7  2012          3205.0          94676.0         16446.0               0.0   \n",
       "8  2013          3500.0          99872.0         18955.0               0.0   \n",
       "\n",
       "   total_opt  Non_stem  \n",
       "0    84961.0       NaN  \n",
       "1    82686.0       NaN  \n",
       "2    79718.0       NaN  \n",
       "3    81649.0   80723.0  \n",
       "4    90196.0   84332.0  \n",
       "5    96213.0   85887.0  \n",
       "6   104404.0   91363.0  \n",
       "7   114327.0   97881.0  \n",
       "8   122327.0  103372.0  "
      ]
     },
     "execution_count": 101,
     "metadata": {},
     "output_type": "execute_result"
    }
   ],
   "source": [
    "df1"
   ]
  },
  {
   "cell_type": "code",
   "execution_count": 131,
   "metadata": {},
   "outputs": [
    {
     "data": {
      "image/png": "[encoded data removed]",
      "text/plain": [
       "<Figure size 720x360 with 1 Axes>"
      ]
     },
     "metadata": {
      "needs_background": "light"
     },
     "output_type": "display_data"
    }
   ],
   "source": [
    "plt.figure(figsize=(10,5))\n",
    "plt.plot(df1.year, df1.total_opt, color='#808000', marker='o', label=\"Total\")\n",
    "plt.plot(df1.year, df1.STEM_extension, color='#800000', marker='*', ls='dashed', label=\"STEM\")\n",
    "plt.plot(df1.year, df1.Non_stem, marker='s', ls=\"--\", label=\"Non-STEM \")\n",
    "plt.vlines(2008, -100, 123000.0, color='black', label=\"the first extension\")\n",
    "plt.legend(loc=\"lower left\", fontsize='large')\n",
    "\n",
    "plt.title(\"EAD Approvals for OPT\", fontsize=16, fontweight='bold')\n",
    "plt.xlabel(\"Year\")\n",
    "plt.ylabel(\"Number of approvals\")\n",
    "plt.savefig('EAD Approvals for OPT')\n",
    "plt.show()"
   ]
  },
  {
   "cell_type": "code",
   "execution_count": 130,
   "metadata": {},
   "outputs": [
    {
     "data": {
      "text/plain": [
       "<Figure size 432x288 with 0 Axes>"
      ]
     },
     "metadata": {},
     "output_type": "display_data"
    }
   ],
   "source": []
  },
  {
   "cell_type": "code",
   "execution_count": null,
   "metadata": {},
   "outputs": [],
   "source": []
  }
 ],
 "metadata": {
  "kernelspec": {
   "display_name": "Python 3",
   "language": "python",
   "name": "python3"
  },
  "language_info": {
   "codemirror_mode": {
    "name": "ipython",
    "version": 3
   },
   "file_extension": ".py",
   "mimetype": "text/x-python",
   "name": "python",
   "nbconvert_exporter": "python",
   "pygments_lexer": "ipython3",
   "version": "3.8.3"
  }
 },
 "nbformat": 4,
 "nbformat_minor": 4
}
